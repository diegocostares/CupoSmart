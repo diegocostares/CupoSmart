{
 "cells": [
  {
   "cell_type": "code",
   "execution_count": 2,
   "id": "initial_id",
   "metadata": {
    "ExecuteTime": {
     "end_time": "2023-10-20T22:01:12.334570755Z",
     "start_time": "2023-10-20T22:01:12.330161780Z"
    }
   },
   "outputs": [],
   "source": [
    "import pandas as pd"
   ]
  },
  {
   "cell_type": "code",
   "execution_count": 3,
   "id": "91bc6f82f2c5f3bd",
   "metadata": {
    "collapsed": false,
    "jupyter": {
     "outputs_hidden": false
    }
   },
   "outputs": [],
   "source": [
    "file_path = \"courses_quota.csv\""
   ]
  },
  {
   "cell_type": "code",
   "execution_count": 4,
   "id": "aad07ddb-4400-4481-a017-d64acc3cafc2",
   "metadata": {},
   "outputs": [
    {
     "name": "stdout",
     "output_type": "stream",
     "text": [
      "        id                           date         category  quota banner  \\\n",
      "0  4335060  2021-01-30 20:04:55.907763+00  04 - Ingeniería    4.0      0   \n",
      "1  4335061  2021-01-30 20:04:56.148198+00  Vacantes libres    1.0      0   \n",
      "2  4335062  2021-01-30 20:04:56.148198+00  04 - Ingeniería   11.0      0   \n",
      "3  4335063  2021-01-30 20:04:56.387025+00  Vacantes libres    0.0      0   \n",
      "4  4335064  2021-01-30 20:04:56.387025+00  04 - Ingeniería   10.0      0   \n",
      "\n",
      "   section_id  \n",
      "0       24405  \n",
      "1       24406  \n",
      "2       24406  \n",
      "3       24407  \n",
      "4       24407  \n"
     ]
    },
    {
     "name": "stderr",
     "output_type": "stream",
     "text": [
      "/tmp/ipykernel_347522/27843933.py:1: DtypeWarning: Columns (4) have mixed types. Specify dtype option on import or set low_memory=False.\n",
      "  df = pd.read_csv(file_path)\n"
     ]
    }
   ],
   "source": [
    "df = pd.read_csv(file_path)\n",
    "\n",
    "# Display the first few rows of the DataFrame\n",
    "print(df.head())"
   ]
  },
  {
   "cell_type": "code",
   "execution_count": 15,
   "id": "c5090718-8c1e-41e4-b0fb-bc0b81cfe635",
   "metadata": {},
   "outputs": [
    {
     "name": "stdout",
     "output_type": "stream",
     "text": [
      "Number of groups: 58297\n",
      "There are 18647 courses with less than 5 timesteps\n"
     ]
    }
   ],
   "source": [
    "grouped = df.groupby(\"section_id\")\n",
    "num_groups = len(grouped)\n",
    "\n",
    "print(f\"Number of groups: {num_groups}\")\n",
    "\n",
    "group_sizes = grouped.size()\n",
    "\n",
    "print(f\"There are {len(group_sizes[group_sizes < 5])} courses with less than 5 timesteps\")"
   ]
  },
  {
   "cell_type": "code",
   "execution_count": null,
   "id": "7d7d63f7-a70e-4cbd-81c8-1757ab85fa6a",
   "metadata": {},
   "outputs": [],
   "source": []
  }
 ],
 "metadata": {
  "kernelspec": {
   "display_name": "Python 3 (ipykernel)",
   "language": "python",
   "name": "python3"
  },
  "language_info": {
   "codemirror_mode": {
    "name": "ipython",
    "version": 3
   },
   "file_extension": ".py",
   "mimetype": "text/x-python",
   "name": "python",
   "nbconvert_exporter": "python",
   "pygments_lexer": "ipython3",
   "version": "3.11.5"
  }
 },
 "nbformat": 4,
 "nbformat_minor": 5
}
